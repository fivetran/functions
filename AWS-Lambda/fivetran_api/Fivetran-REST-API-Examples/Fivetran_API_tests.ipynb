{
  "nbformat": 4,
  "nbformat_minor": 0,
  "metadata": {
    "colab": {
      "name": "Fivetran API tests.ipynb",
      "provenance": []
    },
    "kernelspec": {
      "name": "python3",
      "display_name": "Python 3"
    }
  },
  "cells": [
    {
      "cell_type": "code",
      "metadata": {
        "id": "B-yucg933DeR"
      },
      "source": [
        "import json\n",
        "import requests\n",
        "\n",
        "#get your credentials at https://fivetran.com/account/settings\n",
        "\n",
        "API_KEY = \"*****\"\n",
        "API_SECRET = \"*****\""
      ],
      "execution_count": null,
      "outputs": []
    },
    {
      "cell_type": "code",
      "metadata": {
        "id": "9g8VjdXC3eOb"
      },
      "source": [
        "def get_url(url):\n",
        "  return requests.get(url, auth=(API_KEY, API_SECRET))\n",
        "\n",
        "def post_url(url):\n",
        "  return requests.post(url, auth=(API_KEY, API_SECRET)) \n",
        "\n",
        "def dump(response):\n",
        "  print(json.dumps(response.json()))\n",
        "\n",
        "def get_json(response):\n",
        "  return response.json()"
      ],
      "execution_count": null,
      "outputs": []
    },
    {
      "cell_type": "code",
      "metadata": {
        "id": "MGGNWe36n2hu"
      },
      "source": [
        "def list_users():\n",
        "  url = \"https://api.fivetran.com/v1/users\"\n",
        "  dump(get_url(url))\n",
        "  return get_json(get_url(url))\n",
        "\n",
        "users = list_users()"
      ],
      "execution_count": null,
      "outputs": []
    },
    {
      "cell_type": "code",
      "metadata": {
        "id": "dITuY4-e4J26"
      },
      "source": [
        "def list_groups():\n",
        "  url = \"https://api.fivetran.com/v1/groups\"\n",
        "  dump(get_url(url))\n",
        "  groups = get_json(get_url(url))\n",
        "  last_group_id = groups['data']['items'][-1]['id']\n",
        "  return groups, last_group_id\n",
        "\n",
        "groups, last_group_id = list_groups()"
      ],
      "execution_count": null,
      "outputs": []
    },
    {
      "cell_type": "code",
      "metadata": {
        "id": "4tx_jXPd4ROB"
      },
      "source": [
        "last_group_id"
      ],
      "execution_count": null,
      "outputs": []
    },
    {
      "cell_type": "code",
      "metadata": {
        "id": "UoFRN2iNpfNz"
      },
      "source": [
        "def list_connectors(group_id):\n",
        "  url = \"https://api.fivetran.com/v1/groups/\" + group_id + \"/connectors\"\n",
        "  #dump(get_url(url))\n",
        "  connectors = get_json(get_url(url))\n",
        "  last_connector_id = connectors['data']['items'][-1]['id']\n",
        "  return connectors, last_connector_id\n",
        "\n",
        "connectors, last_connector_id = list_connectors(last_group_id) "
      ],
      "execution_count": null,
      "outputs": []
    },
    {
      "cell_type": "code",
      "metadata": {
        "id": "L7UXJaeIrP_r"
      },
      "source": [
        "last_connector_id"
      ],
      "execution_count": null,
      "outputs": []
    },
    {
      "cell_type": "code",
      "metadata": {
        "id": "zQk8JQOCD9bs"
      },
      "source": [
        "def get_connector(connector_id):\n",
        "  url = \"https://api.fivetran.com/v1/connectors/\" + connector_id\n",
        "  dump(get_url(url))\n",
        "\n",
        "get_connector(last_connector_id)"
      ],
      "execution_count": null,
      "outputs": []
    },
    {
      "cell_type": "code",
      "metadata": {
        "id": "MBsISWBPEQ26"
      },
      "source": [
        "def sync_connector(connector_id):\n",
        "  url = \"https://api.fivetran.com/v1/connectors/\" + connector_id + \"/force\"\n",
        "  dump(get_url(url))"
      ],
      "execution_count": null,
      "outputs": []
    },
    {
      "cell_type": "code",
      "metadata": {
        "id": "NMG1gqZ65DMW"
      },
      "source": [
        "def create_connector(service_name, group_id, schema, username, password, app_token):\n",
        "  url = \"https://api.fivetran.com/v1/connectors/\"\n",
        "  config_values = {\n",
        "    \"service\": service_name,\n",
        "    \"group_id\": group_id,\n",
        "    \"trust_certificates\": \"true\",\n",
        "    \"config\": {\n",
        "        \"schema\": schema,\n",
        "        \"username\": username,\n",
        "        \"password\": password,\n",
        "        \"app_token\": app_token\n",
        "    }\n",
        "  }\n",
        "  \n",
        "  dump(fivetran_api.post_url(url, config_values))"
      ],
      "execution_count": null,
      "outputs": []
    },
    {
      "cell_type": "code",
      "metadata": {
        "id": "pX9i3QdnEu2p"
      },
      "source": [
        "def create_FTP_connector():\n",
        "  url = \"https://api.fivetran.com/v1/connectors/\"\n",
        "  config_values = {\n",
        "    \"service\": \"ftp\",\n",
        "    \"group_id\": \"{group_id}\",\n",
        "    \"config\": {\n",
        "        \"schema\": \"schema_name\",\n",
        "        \"table\": \"table_name\",\n",
        "        \"host\": \"ftp.company.com\",\n",
        "        \"port\": \"21\",\n",
        "        \"user\": \"user_name\",\n",
        "        \"password\": \"password\",\n",
        "        \"isSecure\": \"false\",\n",
        "        \"prefix\": \"folder_path\",\n",
        "        \"pattern\": \"file_pattern\",\n",
        "        \"fileType\": \"infer\",\n",
        "        \"compression\": \"infer\",\n",
        "        \"onError\": \"skip\",\n",
        "        \"appendFileOption\": \"upsert_file\",\n",
        "        \"archivePattern\": \"regex_pattern\",\n",
        "        \"nullSequence\": \"\",\n",
        "        \"delimiter\": \"\",\n",
        "        \"escapeChar\": \"\",\n",
        "        \"skipBefore\": \"0\",\n",
        "        \"skipAfter\": \"0\"\n",
        "    }\n",
        "  }\n",
        "\n",
        "  dump(post_url(url, config_values))"
      ],
      "execution_count": null,
      "outputs": []
    }
  ]
}